{
 "cells": [
  {
   "cell_type": "code",
   "execution_count": 1,
   "metadata": {},
   "outputs": [],
   "source": [
    "import sys\n",
    "sys.path.append('../WorldTrack')"
   ]
  },
  {
   "cell_type": "code",
   "execution_count": 129,
   "metadata": {},
   "outputs": [],
   "source": [
    "import torch\n",
    "from torch import FloatTensor, nn\n",
    "import utils.vox\n",
    "import utils.basic\n",
    "from models.bevformernet import VanillaSelfAttention, SpatialCrossAttention\n",
    "from models.decoder import Decoder"
   ]
  },
  {
   "cell_type": "code",
   "execution_count": 130,
   "metadata": {},
   "outputs": [],
   "source": [
    "# setup camera settings\n",
    "B = 1\n",
    "S = 7\n",
    "C = 3\n",
    "H = 720\n",
    "W = 1280\n",
    "P = 4\n",
    "\n",
    "# resolution\n",
    "X = 360\n",
    "Y = 120\n",
    "Z = 4"
   ]
  },
  {
   "cell_type": "code",
   "execution_count": 131,
   "metadata": {},
   "outputs": [],
   "source": [
    "# data input\n",
    "rgb_cams = FloatTensor(size=(B,S,C,H,W)).random_().cuda()\n",
    "pix_T_cams = FloatTensor(size=(B,S,P,P)).random_().cuda()\n",
    "cams_T_global = FloatTensor(size=(B,S,P,P)).random_().cuda()\n",
    "ref_T_global = FloatTensor(size=(B,P,P)).random_().cuda()"
   ]
  },
  {
   "cell_type": "code",
   "execution_count": 132,
   "metadata": {},
   "outputs": [],
   "source": [
    "# # preprocess\n",
    "# rgb_cams      (B,S,C,H,W) -- reshape -> rgb_cams_      (B*S,C,H,W)\n",
    "# pix_T_cams    (B,S,P,P)   -- reshape -> pix_T_cams_    (B*S,P,P)\n",
    "# cams_T_global (B,S,P,P)   -- reshape -> cams_T_global_ (B*S,P,P)   -- inv -> global_T_cams_ (B*S,P,P)\n",
    "# ref_T_global  (B,P,P)     --------- reshape + mul global_T_cams_ ----------> ref_T_cams     (B*S,P,P)\n",
    "__p = lambda x: utils.basic.pack_seqdim(x, B)\n",
    "__u = lambda x: utils.basic.unpack_seqdim(x, B)\n",
    "rgb_cams_ = __p(rgb_cams)  # B*S,3,H,W\n",
    "pix_T_cams_ = __p(pix_T_cams)  # B*S,4,4\n",
    "cams_T_global_ = __p(cams_T_global)  # B*S,4,4\n",
    "global_T_cams_ = torch.inverse(cams_T_global_)  # B*S,4,4\n",
    "ref_T_cams = torch.matmul(ref_T_global.repeat(S, 1, 1), global_T_cams_)  # B*S,4,4\n",
    "cams_T_ref_ = torch.inverse(ref_T_cams)  # B*S,4,4"
   ]
  },
  {
   "cell_type": "code",
   "execution_count": 133,
   "metadata": {},
   "outputs": [],
   "source": [
    "# rgb encoder\n",
    "# pre-define data\n",
    "rgb_cam_mean = torch.as_tensor([0.485, 0.456, 0.406]).reshape(1, 3, 1, 1).float().cuda()\n",
    "rgb_cam_std = torch.as_tensor([0.229, 0.224, 0.225]).reshape(1, 3, 1, 1).float().cuda()\n",
    "encoder = lambda z_rgb_cams: FloatTensor(size=(B*S,128,H//8,W//8)).random_().cuda()\n",
    "# rgb_cams_ (B*S,C,H,W) -- compute (rgb_cams_ - mean) / std -> z_rgb_cams_ (B*S,C,H,W)\n",
    "# z_rgb_cams_ (B*S,C,H,W) -- encode -> feat_cams_ (B*S,128,H/8,W/8) -- reshape -> feat_cams (B,S,128,H/8,W/8)\n",
    "device = rgb_cams_.device\n",
    "rgb_cams_ = (rgb_cams_ - rgb_cam_mean.to(device)) / rgb_cam_std.to(device)\n",
    "feat_cams_ = encoder(rgb_cams_)  # B*S,128,H/8,W/8\n",
    "_, C, Hf, Wf = feat_cams_.shape\n",
    "feat_cams = __u(feat_cams_)  # B,S,C,Hf,Wf"
   ]
  },
  {
   "cell_type": "code",
   "execution_count": 164,
   "metadata": {},
   "outputs": [
    {
     "name": "stdout",
     "output_type": "stream",
     "text": [
      "torch.Size([7, 172800, 3])\n",
      "torch.Size([7, 172800, 3])\n",
      "torch.Size([7, 172800, 3])\n",
      "torch.Size([7, 172800, 2])\n"
     ]
    }
   ],
   "source": [
    "# pre-define\n",
    "vox_util = utils.vox.VoxelUtil(\n",
    "    Y, Z, X,\n",
    "    scene_centroid=torch.tensor([[0., 0., 0.]], dtype=torch.float32),\n",
    "    bounds=[0, 1440, 0, 480, 0, 200]\n",
    ")\n",
    "\n",
    "# compute the image locations (no flipping for now)\n",
    "xyz_mem_ = utils.basic.gridcloud3d(\n",
    "    B*S, Y, Z, X, \n",
    "    norm=False, \n",
    "    device=rgb_cams.device\n",
    ")  # B*S, Z*Y*X, 3\n",
    "print(xyz_mem_.shape)\n",
    "\n",
    "xyz_ref_ = vox_util.Mem2Ref(\n",
    "    xyz_mem_,\n",
    "    Y, Z, X,\n",
    "    assert_cube=False\n",
    ")\n",
    "print(xyz_ref_.shape)\n",
    "\n",
    "xyz_cams_ = utils.geom.apply_4x4(cams_T_ref_, xyz_ref_)\n",
    "print(xyz_cams_.shape)\n",
    "xy_cams_ = utils.geom.camera2pixels(xyz_cams_, pix_T_cams_)  # B*S, N, 2\n",
    "print(xy_cams_.shape)"
   ]
  },
  {
   "cell_type": "code",
   "execution_count": 167,
   "metadata": {},
   "outputs": [
    {
     "data": {
      "text/plain": [
       "(360, 120, 4)"
      ]
     },
     "execution_count": 167,
     "metadata": {},
     "output_type": "execute_result"
    }
   ],
   "source": [
    "X, Y, Z"
   ]
  },
  {
   "cell_type": "code",
   "execution_count": 169,
   "metadata": {},
   "outputs": [
    {
     "data": {
      "text/plain": [
       "1.0"
      ]
     },
     "execution_count": 169,
     "metadata": {},
     "output_type": "execute_result"
    }
   ],
   "source": [
    "172800/X/Y/Z"
   ]
  },
  {
   "cell_type": "code",
   "execution_count": 135,
   "metadata": {},
   "outputs": [],
   "source": [
    "# pre-define\n",
    "z_sign = 1\n",
    "latent_dim=128\n",
    "feat2d_dim=128\n",
    "\n",
    "# bev coords project to pixel level and normalized  S,B,Y*X,Z,2\n",
    "reference_points_cam = xy_cams_.reshape(B, S, Y, Z, X, 2).permute(1, 0, 2, 4, 3, 5).reshape(S, B, Y * X, Z, 2)\n",
    "reference_points_cam[..., 0:1] = reference_points_cam[..., 0:1] / float(W)\n",
    "reference_points_cam[..., 1:2] = reference_points_cam[..., 1:2] / float(H)\n",
    "cam_x = xyz_cams_[..., 2].reshape(B, S, Y, Z, X, 1).permute(1, 0, 2, 4, 3, 5).reshape(S, B, Y * X, Z, 1)\n",
    "bev_mask = ((reference_points_cam[..., 1:2] >= 0.0)\n",
    "            & (reference_points_cam[..., 1:2] <= 1.0)\n",
    "            & (reference_points_cam[..., 0:1] <= 1.0)\n",
    "            & (reference_points_cam[..., 0:1] >= 0.0)\n",
    "            & (z_sign * cam_x >= 0.0)\n",
    "            ).squeeze(-1)  # S,B,Y*X,Z valid point or not"
   ]
  },
  {
   "cell_type": "code",
   "execution_count": 136,
   "metadata": {},
   "outputs": [],
   "source": [
    "# pre-define\n",
    "bev_keys_W = nn.Linear(feat2d_dim, latent_dim).cuda()\n",
    "bev_queries_W = nn.Parameter(0.1 * torch.randn(latent_dim, Y, X)).cuda()  # C, Y, X\n",
    "bev_queries_pos_W = nn.Parameter(0.1 * torch.randn(latent_dim, Y, X)).cuda()  # C, Y, X\n",
    "\n",
    "# self-attention prepare\n",
    "bev_queries = bev_queries_W.clone().unsqueeze(0).repeat(B, 1, 1, 1).reshape(B, latent_dim, -1) \\\n",
    "    .permute(0, 2, 1)  # B, Y*X, C\n",
    "bev_queries_pos = bev_queries_W.clone().unsqueeze(0).repeat(B, 1, 1, 1) \\\n",
    "    .reshape(B, latent_dim, -1).permute(0, 2, 1)  # B, Y*X, C"
   ]
  },
  {
   "cell_type": "code",
   "execution_count": 137,
   "metadata": {},
   "outputs": [],
   "source": [
    "# cross-attention prepare\n",
    "bev_keys = feat_cams.reshape(B, S, C, Hf * Wf).permute(1, 3, 0, 2)  # S, Hf*Wf, B, C\n",
    "bev_keys = bev_keys_W(bev_keys)\n",
    "spatial_shapes = bev_queries.new_zeros([1, 2]).long()\n",
    "spatial_shapes[0, 0] = Hf\n",
    "spatial_shapes[0, 1] = Wf"
   ]
  },
  {
   "cell_type": "code",
   "execution_count": null,
   "metadata": {},
   "outputs": [],
   "source": [
    "# pre-define\n",
    "num_layers = 6\n",
    "num_classes = 1\n",
    "self_attn_layers = nn.ModuleList([\n",
    "    VanillaSelfAttention(dim=latent_dim) for _ in range(num_layers)\n",
    "]).cuda()  # deformable self attention\n",
    "norm1_layers = nn.ModuleList([\n",
    "    nn.LayerNorm(latent_dim) for _ in range(num_layers)\n",
    "]).cuda()\n",
    "cross_attn_layers = nn.ModuleList([\n",
    "    SpatialCrossAttention(dim=latent_dim) for _ in range(num_layers)\n",
    "]).cuda()\n",
    "norm2_layers = nn.ModuleList([\n",
    "    nn.LayerNorm(latent_dim) for _ in range(num_layers)\n",
    "]).cuda()\n",
    "ffn_dim = 512\n",
    "ffn_layers = nn.ModuleList([\n",
    "    nn.Sequential(nn.Linear(latent_dim, ffn_dim), nn.ReLU(), nn.Linear(ffn_dim, latent_dim)) for _ in\n",
    "    range(num_layers)\n",
    "]).cuda()\n",
    "norm3_layers = nn.ModuleList([\n",
    "    nn.LayerNorm(latent_dim) for _ in range(num_layers)\n",
    "]).cuda()\n",
    "\n",
    "bev_temporal = nn.Sequential(\n",
    "    nn.Conv2d(latent_dim * 2, latent_dim, kernel_size=3, padding=1),\n",
    "    nn.InstanceNorm2d(latent_dim), nn.ReLU(),\n",
    "    nn.Conv2d(latent_dim, latent_dim, kernel_size=1),\n",
    ").cuda()\n",
    "\n",
    "# Decoder\n",
    "decoder = Decoder(\n",
    "    in_channels=latent_dim,\n",
    "    n_classes=num_classes,\n",
    "    feat2d=feat2d_dim,\n",
    ")"
   ]
  },
  {
   "cell_type": "code",
   "execution_count": 160,
   "metadata": {},
   "outputs": [
    {
     "data": {
      "text/plain": [
       "VanillaSelfAttention(\n",
       "  (dropout): Dropout(p=0.5, inplace=False)\n",
       "  (deformable_attention): MSDeformAttn(\n",
       "    (sampling_offsets): Linear(in_features=128, out_features=64, bias=True)\n",
       "    (attention_weights): Linear(in_features=128, out_features=32, bias=True)\n",
       "    (value_proj): Linear(in_features=128, out_features=128, bias=True)\n",
       "    (output_proj): Linear(in_features=128, out_features=128, bias=True)\n",
       "  )\n",
       "  (output_proj): Linear(in_features=128, out_features=128, bias=True)\n",
       ")"
      ]
     },
     "execution_count": 160,
     "metadata": {},
     "output_type": "execute_result"
    }
   ],
   "source": [
    "self_attn_layers[0].to('cuda')"
   ]
  },
  {
   "cell_type": "code",
   "execution_count": 162,
   "metadata": {},
   "outputs": [
    {
     "ename": "RuntimeError",
     "evalue": "ms_deform_attn_impl_forward: implementation for device cuda:0 not found.\n\nException raised from Dispatch at C:\\Users\\PoraRee\\AppData\\Local\\Temp\\pip-install-672wsqnj\\mmcv_cb600b9f4be24b059bad090755f46a85\\mmcv\\ops\\csrc\\common\\pytorch_device_registry.hpp:122 (most recent call first):\n00007FFEEEA891D900007FFEEEA89130 c10.dll!c10::Error::Error [<unknown file> @ <unknown line number>]\n00007FFEEEA87A6A00007FFEEEA87A10 c10.dll!c10::detail::torchCheckFail [<unknown file> @ <unknown line number>]\n00007FFD3CF278CD00007FFD3CEC65F0 _ext.cp39-win_amd64.pyd!c10::ivalue::Object::operator= [<unknown file> @ <unknown line number>]\n00007FFD3CF27E4500007FFD3CEC65F0 _ext.cp39-win_amd64.pyd!c10::ivalue::Object::operator= [<unknown file> @ <unknown line number>]\n00007FFD3CF555B800007FFD3CF353E0 _ext.cp39-win_amd64.pyd!PyInit__ext [<unknown file> @ <unknown line number>]\n00007FFD3CF5564400007FFD3CF353E0 _ext.cp39-win_amd64.pyd!PyInit__ext [<unknown file> @ <unknown line number>]\n00007FFD3CF3430A00007FFD3CEC65F0 _ext.cp39-win_amd64.pyd!c10::ivalue::Object::operator= [<unknown file> @ <unknown line number>]\n00007FFE4AA0224D00007FFE4AA01340 python39.dll!PyCFunction_GetFlags [<unknown file> @ <unknown line number>]\n00007FFE4A9B832F00007FFE4A9B8220 python39.dll!PyObject_MakeTpCall [<unknown file> @ <unknown line number>]\n00007FFE4AAF7E8F00007FFE4AAF7B00 python39.dll!PyEval_GetFuncDesc [<unknown file> @ <unknown line number>]\n00007FFE4AAF3C7300007FFE4AAF0710 python39.dll!PyEval_EvalFrameDefault [<unknown file> @ <unknown line number>]\n00007FFE4A9B86B100007FFE4A9B8620 python39.dll!PyCFunction_Call [<unknown file> @ <unknown line number>]\n00007FFE4A9B879E00007FFE4A9B8720 python39.dll!PyFunction_Vectorcall [<unknown file> @ <unknown line number>]\n00007FFE4A9B851B00007FFE4A9B84D0 python39.dll!PyObject_Call [<unknown file> @ <unknown line number>]\n00007FFE49D65DB100007FFE49D51D90 torch_python.dll!THPPointer<PyCodeObject>::THPPointer<PyCodeObject> [<unknown file> @ <unknown line number>]\n00007FFE4AA0228800007FFE4AA01340 python39.dll!PyCFunction_GetFlags [<unknown file> @ <unknown line number>]\n00007FFE4A9B857C00007FFE4A9B84D0 python39.dll!PyObject_Call [<unknown file> @ <unknown line number>]\n00007FFE4AAF812C00007FFE4AAF7B00 python39.dll!PyEval_GetFuncDesc [<unknown file> @ <unknown line number>]\n00007FFE4AAF367C00007FFE4AAF0710 python39.dll!PyEval_EvalFrameDefault [<unknown file> @ <unknown line number>]\n00007FFE4AAF66A500007FFE4AAF0710 python39.dll!PyEval_EvalFrameDefault [<unknown file> @ <unknown line number>]\n00007FFE4A9B88A400007FFE4A9B8720 python39.dll!PyFunction_Vectorcall [<unknown file> @ <unknown line number>]\n00007FFE4A9BAEA100007FFE4A9BAA10 python39.dll!PyCell_Set [<unknown file> @ <unknown line number>]\n00007FFE4A9BB0CD00007FFE4A9BB010 python39.dll!PyMethod_Self [<unknown file> @ <unknown line number>]\n00007FFE4AAEE9E100007FFE4AAEE720 python39.dll!PyOS_URandomNonblock [<unknown file> @ <unknown line number>]\n00007FFE4AAF7E8F00007FFE4AAF7B00 python39.dll!PyEval_GetFuncDesc [<unknown file> @ <unknown line number>]\n00007FFE4AAF3C2E00007FFE4AAF0710 python39.dll!PyEval_EvalFrameDefault [<unknown file> @ <unknown line number>]\n00007FFE4AAF66A500007FFE4AAF0710 python39.dll!PyEval_EvalFrameDefault [<unknown file> @ <unknown line number>]\n00007FFE4A9B88A400007FFE4A9B8720 python39.dll!PyFunction_Vectorcall [<unknown file> @ <unknown line number>]\n00007FFE4A9BAEA100007FFE4A9BAA10 python39.dll!PyCell_Set [<unknown file> @ <unknown line number>]\n00007FFE4A9BB0CD00007FFE4A9BB010 python39.dll!PyMethod_Self [<unknown file> @ <unknown line number>]\n00007FFE4A9B843100007FFE4A9B8370 python39.dll!PyVectorcall_Call [<unknown file> @ <unknown line number>]\n00007FFE4A9B851B00007FFE4A9B84D0 python39.dll!PyObject_Call [<unknown file> @ <unknown line number>]\n00007FFE4AAF806E00007FFE4AAF7B00 python39.dll!PyEval_GetFuncDesc [<unknown file> @ <unknown line number>]\n00007FFE4AAF367C00007FFE4AAF0710 python39.dll!PyEval_EvalFrameDefault [<unknown file> @ <unknown line number>]\n00007FFE4AAF66A500007FFE4AAF0710 python39.dll!PyEval_EvalFrameDefault [<unknown file> @ <unknown line number>]\n00007FFE4A9B88A400007FFE4A9B8720 python39.dll!PyFunction_Vectorcall [<unknown file> @ <unknown line number>]\n00007FFE4A9BAEA100007FFE4A9BAA10 python39.dll!PyCell_Set [<unknown file> @ <unknown line number>]\n00007FFE4A9BB0CD00007FFE4A9BB010 python39.dll!PyMethod_Self [<unknown file> @ <unknown line number>]\n00007FFE4A9B843100007FFE4A9B8370 python39.dll!PyVectorcall_Call [<unknown file> @ <unknown line number>]\n00007FFE4A9B851B00007FFE4A9B84D0 python39.dll!PyObject_Call [<unknown file> @ <unknown line number>]\n00007FFE4AAF806E00007FFE4AAF7B00 python39.dll!PyEval_GetFuncDesc [<unknown file> @ <unknown line number>]\n00007FFE4AAF367C00007FFE4AAF0710 python39.dll!PyEval_EvalFrameDefault [<unknown file> @ <unknown line number>]\n00007FFE4AAF66A500007FFE4AAF0710 python39.dll!PyEval_EvalFrameDefault [<unknown file> @ <unknown line number>]\n00007FFE4A9B88A400007FFE4A9B8720 python39.dll!PyFunction_Vectorcall [<unknown file> @ <unknown line number>]\n00007FFE4A9B814100007FFE4A9B8090 python39.dll!PyObject_FastCallDictTstate [<unknown file> @ <unknown line number>]\n00007FFE4A9B8B4200007FFE4A9B8AA0 python39.dll!PyObject_Call_Prepend [<unknown file> @ <unknown line number>]\n00007FFE4AA2F12D00007FFE4AA2AC40 python39.dll!PyType_Ready [<unknown file> @ <unknown line number>]\n00007FFE4A9B832F00007FFE4A9B8220 python39.dll!PyObject_MakeTpCall [<unknown file> @ <unknown line number>]\n00007FFE4AAF7E8F00007FFE4AAF7B00 python39.dll!PyEval_GetFuncDesc [<unknown file> @ <unknown line number>]\n00007FFE4AAF3C7300007FFE4AAF0710 python39.dll!PyEval_EvalFrameDefault [<unknown file> @ <unknown line number>]\n00007FFE4AAF66A500007FFE4AAF0710 python39.dll!PyEval_EvalFrameDefault [<unknown file> @ <unknown line number>]\n00007FFE4A9B88A400007FFE4A9B8720 python39.dll!PyFunction_Vectorcall [<unknown file> @ <unknown line number>]\n00007FFE4A9BAEA100007FFE4A9BAA10 python39.dll!PyCell_Set [<unknown file> @ <unknown line number>]\n00007FFE4A9BB16A00007FFE4A9BB010 python39.dll!PyMethod_Self [<unknown file> @ <unknown line number>]\n00007FFE4A9B851B00007FFE4A9B84D0 python39.dll!PyObject_Call [<unknown file> @ <unknown line number>]\n00007FFE4AAF806E00007FFE4AAF7B00 python39.dll!PyEval_GetFuncDesc [<unknown file> @ <unknown line number>]\n00007FFE4AAF367C00007FFE4AAF0710 python39.dll!PyEval_EvalFrameDefault [<unknown file> @ <unknown line number>]\n00007FFE4AAF66A500007FFE4AAF0710 python39.dll!PyEval_EvalFrameDefault [<unknown file> @ <unknown line number>]\n00007FFE4A9B88A400007FFE4A9B8720 python39.dll!PyFunction_Vectorcall [<unknown file> @ <unknown line number>]\n00007FFE4A9BAEA100007FFE4A9BAA10 python39.dll!PyCell_Set [<unknown file> @ <unknown line number>]\n00007FFE4A9BB16A00007FFE4A9BB010 python39.dll!PyMethod_Self [<unknown file> @ <unknown line number>]\n00007FFE4A9B851B00007FFE4A9B84D0 python39.dll!PyObject_Call [<unknown file> @ <unknown line number>]\n00007FFE4AAF806E00007FFE4AAF7B00 python39.dll!PyEval_GetFuncDesc [<unknown file> @ <unknown line number>]\n00007FFE4AAF367C00007FFE4AAF0710 python39.dll!PyEval_EvalFrameDefault [<unknown file> @ <unknown line number>]\n",
     "output_type": "error",
     "traceback": [
      "\u001b[1;31m---------------------------------------------------------------------------\u001b[0m",
      "\u001b[1;31mRuntimeError\u001b[0m                              Traceback (most recent call last)",
      "\u001b[1;32m~\\AppData\\Local\\Temp/ipykernel_27332/1468754040.py\u001b[0m in \u001b[0;36m<module>\u001b[1;34m\u001b[0m\n\u001b[1;32m----> 1\u001b[1;33m \u001b[0mself_attn_layers\u001b[0m\u001b[1;33m[\u001b[0m\u001b[1;36m0\u001b[0m\u001b[1;33m]\u001b[0m\u001b[1;33m.\u001b[0m\u001b[0mto\u001b[0m\u001b[1;33m(\u001b[0m\u001b[1;34m'cuda'\u001b[0m\u001b[1;33m)\u001b[0m\u001b[1;33m(\u001b[0m\u001b[0mbev_queries\u001b[0m\u001b[1;33m,\u001b[0m \u001b[0mY\u001b[0m\u001b[1;33m,\u001b[0m \u001b[0mX\u001b[0m\u001b[1;33m,\u001b[0m \u001b[0mbev_queries_pos\u001b[0m\u001b[1;33m)\u001b[0m\u001b[1;33m\u001b[0m\u001b[1;33m\u001b[0m\u001b[0m\n\u001b[0m",
      "\u001b[1;32mc:\\Users\\PoraRee\\.conda\\envs\\tracktacular_rep\\lib\\site-packages\\torch\\nn\\modules\\module.py\u001b[0m in \u001b[0;36m_wrapped_call_impl\u001b[1;34m(self, *args, **kwargs)\u001b[0m\n\u001b[0;32m   1737\u001b[0m             \u001b[1;32mreturn\u001b[0m \u001b[0mself\u001b[0m\u001b[1;33m.\u001b[0m\u001b[0m_compiled_call_impl\u001b[0m\u001b[1;33m(\u001b[0m\u001b[1;33m*\u001b[0m\u001b[0margs\u001b[0m\u001b[1;33m,\u001b[0m \u001b[1;33m**\u001b[0m\u001b[0mkwargs\u001b[0m\u001b[1;33m)\u001b[0m  \u001b[1;31m# type: ignore[misc]\u001b[0m\u001b[1;33m\u001b[0m\u001b[1;33m\u001b[0m\u001b[0m\n\u001b[0;32m   1738\u001b[0m         \u001b[1;32melse\u001b[0m\u001b[1;33m:\u001b[0m\u001b[1;33m\u001b[0m\u001b[1;33m\u001b[0m\u001b[0m\n\u001b[1;32m-> 1739\u001b[1;33m             \u001b[1;32mreturn\u001b[0m \u001b[0mself\u001b[0m\u001b[1;33m.\u001b[0m\u001b[0m_call_impl\u001b[0m\u001b[1;33m(\u001b[0m\u001b[1;33m*\u001b[0m\u001b[0margs\u001b[0m\u001b[1;33m,\u001b[0m \u001b[1;33m**\u001b[0m\u001b[0mkwargs\u001b[0m\u001b[1;33m)\u001b[0m\u001b[1;33m\u001b[0m\u001b[1;33m\u001b[0m\u001b[0m\n\u001b[0m\u001b[0;32m   1740\u001b[0m \u001b[1;33m\u001b[0m\u001b[0m\n\u001b[0;32m   1741\u001b[0m     \u001b[1;31m# torchrec tests the code consistency with the following code\u001b[0m\u001b[1;33m\u001b[0m\u001b[1;33m\u001b[0m\u001b[0m\n",
      "\u001b[1;32mc:\\Users\\PoraRee\\.conda\\envs\\tracktacular_rep\\lib\\site-packages\\torch\\nn\\modules\\module.py\u001b[0m in \u001b[0;36m_call_impl\u001b[1;34m(self, *args, **kwargs)\u001b[0m\n\u001b[0;32m   1748\u001b[0m                 \u001b[1;32mor\u001b[0m \u001b[0m_global_backward_pre_hooks\u001b[0m \u001b[1;32mor\u001b[0m \u001b[0m_global_backward_hooks\u001b[0m\u001b[1;33m\u001b[0m\u001b[1;33m\u001b[0m\u001b[0m\n\u001b[0;32m   1749\u001b[0m                 or _global_forward_hooks or _global_forward_pre_hooks):\n\u001b[1;32m-> 1750\u001b[1;33m             \u001b[1;32mreturn\u001b[0m \u001b[0mforward_call\u001b[0m\u001b[1;33m(\u001b[0m\u001b[1;33m*\u001b[0m\u001b[0margs\u001b[0m\u001b[1;33m,\u001b[0m \u001b[1;33m**\u001b[0m\u001b[0mkwargs\u001b[0m\u001b[1;33m)\u001b[0m\u001b[1;33m\u001b[0m\u001b[1;33m\u001b[0m\u001b[0m\n\u001b[0m\u001b[0;32m   1751\u001b[0m \u001b[1;33m\u001b[0m\u001b[0m\n\u001b[0;32m   1752\u001b[0m         \u001b[0mresult\u001b[0m \u001b[1;33m=\u001b[0m \u001b[1;32mNone\u001b[0m\u001b[1;33m\u001b[0m\u001b[1;33m\u001b[0m\u001b[0m\n",
      "\u001b[1;32mc:\\Users\\PoraRee\\Desktop\\TrackTacular\\notebooks\\../WorldTrack\\models\\bevformernet.py\u001b[0m in \u001b[0;36mforward\u001b[1;34m(self, query, Y, X, query_pos)\u001b[0m\n\u001b[0;32m     45\u001b[0m         \u001b[0minput_spatial_shapes\u001b[0m\u001b[1;33m[\u001b[0m\u001b[1;36m0\u001b[0m\u001b[1;33m,\u001b[0m \u001b[1;36m1\u001b[0m\u001b[1;33m]\u001b[0m \u001b[1;33m=\u001b[0m \u001b[0mX\u001b[0m\u001b[1;33m\u001b[0m\u001b[1;33m\u001b[0m\u001b[0m\n\u001b[0;32m     46\u001b[0m         \u001b[0minput_level_start_index\u001b[0m \u001b[1;33m=\u001b[0m \u001b[0mquery\u001b[0m\u001b[1;33m.\u001b[0m\u001b[0mnew_zeros\u001b[0m\u001b[1;33m(\u001b[0m\u001b[1;33m[\u001b[0m\u001b[1;36m1\u001b[0m\u001b[1;33m,\u001b[0m \u001b[1;33m]\u001b[0m\u001b[1;33m)\u001b[0m\u001b[1;33m.\u001b[0m\u001b[0mlong\u001b[0m\u001b[1;33m(\u001b[0m\u001b[1;33m)\u001b[0m\u001b[1;33m\u001b[0m\u001b[1;33m\u001b[0m\u001b[0m\n\u001b[1;32m---> 47\u001b[1;33m         queries = self.deformable_attention(query=query,\n\u001b[0m\u001b[0;32m     48\u001b[0m                                             \u001b[0mreference_points\u001b[0m\u001b[1;33m=\u001b[0m\u001b[0mreference_points\u001b[0m\u001b[1;33m,\u001b[0m\u001b[1;33m\u001b[0m\u001b[1;33m\u001b[0m\u001b[0m\n\u001b[0;32m     49\u001b[0m                                             \u001b[0minput_flatten\u001b[0m\u001b[1;33m=\u001b[0m\u001b[0mquery\u001b[0m\u001b[1;33m.\u001b[0m\u001b[0mclone\u001b[0m\u001b[1;33m(\u001b[0m\u001b[1;33m)\u001b[0m\u001b[1;33m,\u001b[0m\u001b[1;33m\u001b[0m\u001b[1;33m\u001b[0m\u001b[0m\n",
      "\u001b[1;32mc:\\Users\\PoraRee\\.conda\\envs\\tracktacular_rep\\lib\\site-packages\\torch\\nn\\modules\\module.py\u001b[0m in \u001b[0;36m_wrapped_call_impl\u001b[1;34m(self, *args, **kwargs)\u001b[0m\n\u001b[0;32m   1737\u001b[0m             \u001b[1;32mreturn\u001b[0m \u001b[0mself\u001b[0m\u001b[1;33m.\u001b[0m\u001b[0m_compiled_call_impl\u001b[0m\u001b[1;33m(\u001b[0m\u001b[1;33m*\u001b[0m\u001b[0margs\u001b[0m\u001b[1;33m,\u001b[0m \u001b[1;33m**\u001b[0m\u001b[0mkwargs\u001b[0m\u001b[1;33m)\u001b[0m  \u001b[1;31m# type: ignore[misc]\u001b[0m\u001b[1;33m\u001b[0m\u001b[1;33m\u001b[0m\u001b[0m\n\u001b[0;32m   1738\u001b[0m         \u001b[1;32melse\u001b[0m\u001b[1;33m:\u001b[0m\u001b[1;33m\u001b[0m\u001b[1;33m\u001b[0m\u001b[0m\n\u001b[1;32m-> 1739\u001b[1;33m             \u001b[1;32mreturn\u001b[0m \u001b[0mself\u001b[0m\u001b[1;33m.\u001b[0m\u001b[0m_call_impl\u001b[0m\u001b[1;33m(\u001b[0m\u001b[1;33m*\u001b[0m\u001b[0margs\u001b[0m\u001b[1;33m,\u001b[0m \u001b[1;33m**\u001b[0m\u001b[0mkwargs\u001b[0m\u001b[1;33m)\u001b[0m\u001b[1;33m\u001b[0m\u001b[1;33m\u001b[0m\u001b[0m\n\u001b[0m\u001b[0;32m   1740\u001b[0m \u001b[1;33m\u001b[0m\u001b[0m\n\u001b[0;32m   1741\u001b[0m     \u001b[1;31m# torchrec tests the code consistency with the following code\u001b[0m\u001b[1;33m\u001b[0m\u001b[1;33m\u001b[0m\u001b[0m\n",
      "\u001b[1;32mc:\\Users\\PoraRee\\.conda\\envs\\tracktacular_rep\\lib\\site-packages\\torch\\nn\\modules\\module.py\u001b[0m in \u001b[0;36m_call_impl\u001b[1;34m(self, *args, **kwargs)\u001b[0m\n\u001b[0;32m   1748\u001b[0m                 \u001b[1;32mor\u001b[0m \u001b[0m_global_backward_pre_hooks\u001b[0m \u001b[1;32mor\u001b[0m \u001b[0m_global_backward_hooks\u001b[0m\u001b[1;33m\u001b[0m\u001b[1;33m\u001b[0m\u001b[0m\n\u001b[0;32m   1749\u001b[0m                 or _global_forward_hooks or _global_forward_pre_hooks):\n\u001b[1;32m-> 1750\u001b[1;33m             \u001b[1;32mreturn\u001b[0m \u001b[0mforward_call\u001b[0m\u001b[1;33m(\u001b[0m\u001b[1;33m*\u001b[0m\u001b[0margs\u001b[0m\u001b[1;33m,\u001b[0m \u001b[1;33m**\u001b[0m\u001b[0mkwargs\u001b[0m\u001b[1;33m)\u001b[0m\u001b[1;33m\u001b[0m\u001b[1;33m\u001b[0m\u001b[0m\n\u001b[0m\u001b[0;32m   1751\u001b[0m \u001b[1;33m\u001b[0m\u001b[0m\n\u001b[0;32m   1752\u001b[0m         \u001b[0mresult\u001b[0m \u001b[1;33m=\u001b[0m \u001b[1;32mNone\u001b[0m\u001b[1;33m\u001b[0m\u001b[1;33m\u001b[0m\u001b[0m\n",
      "\u001b[1;32mc:\\Users\\PoraRee\\Desktop\\TrackTacular\\notebooks\\../WorldTrack\\models\\ops\\ms_deform_attn.py\u001b[0m in \u001b[0;36mforward\u001b[1;34m(self, query, reference_points, input_flatten, input_spatial_shapes, input_level_start_index, input_padding_mask)\u001b[0m\n\u001b[0;32m    110\u001b[0m             raise ValueError(\n\u001b[0;32m    111\u001b[0m                 'Last dim of reference_points must be 2 or 4, but get {} instead.'.format(reference_points.shape[-1]))\n\u001b[1;32m--> 112\u001b[1;33m         output = MultiScaleDeformableAttnFunction.apply(\n\u001b[0m\u001b[0;32m    113\u001b[0m             \u001b[0mvalue\u001b[0m\u001b[1;33m,\u001b[0m \u001b[0minput_spatial_shapes\u001b[0m\u001b[1;33m,\u001b[0m \u001b[0minput_level_start_index\u001b[0m\u001b[1;33m,\u001b[0m \u001b[0msampling_locations\u001b[0m\u001b[1;33m,\u001b[0m \u001b[0mattention_weights\u001b[0m\u001b[1;33m,\u001b[0m\u001b[1;33m\u001b[0m\u001b[1;33m\u001b[0m\u001b[0m\n\u001b[0;32m    114\u001b[0m             self.im2col_step)\n",
      "\u001b[1;32mc:\\Users\\PoraRee\\.conda\\envs\\tracktacular_rep\\lib\\site-packages\\torch\\autograd\\function.py\u001b[0m in \u001b[0;36mapply\u001b[1;34m(cls, *args, **kwargs)\u001b[0m\n\u001b[0;32m    573\u001b[0m             \u001b[1;31m# See NOTE: [functorch vjp and autograd interaction]\u001b[0m\u001b[1;33m\u001b[0m\u001b[1;33m\u001b[0m\u001b[0m\n\u001b[0;32m    574\u001b[0m             \u001b[0margs\u001b[0m \u001b[1;33m=\u001b[0m \u001b[0m_functorch\u001b[0m\u001b[1;33m.\u001b[0m\u001b[0mutils\u001b[0m\u001b[1;33m.\u001b[0m\u001b[0munwrap_dead_wrappers\u001b[0m\u001b[1;33m(\u001b[0m\u001b[0margs\u001b[0m\u001b[1;33m)\u001b[0m\u001b[1;33m\u001b[0m\u001b[1;33m\u001b[0m\u001b[0m\n\u001b[1;32m--> 575\u001b[1;33m             \u001b[1;32mreturn\u001b[0m \u001b[0msuper\u001b[0m\u001b[1;33m(\u001b[0m\u001b[1;33m)\u001b[0m\u001b[1;33m.\u001b[0m\u001b[0mapply\u001b[0m\u001b[1;33m(\u001b[0m\u001b[1;33m*\u001b[0m\u001b[0margs\u001b[0m\u001b[1;33m,\u001b[0m \u001b[1;33m**\u001b[0m\u001b[0mkwargs\u001b[0m\u001b[1;33m)\u001b[0m  \u001b[1;31m# type: ignore[misc]\u001b[0m\u001b[1;33m\u001b[0m\u001b[1;33m\u001b[0m\u001b[0m\n\u001b[0m\u001b[0;32m    576\u001b[0m \u001b[1;33m\u001b[0m\u001b[0m\n\u001b[0;32m    577\u001b[0m         \u001b[1;32mif\u001b[0m \u001b[1;32mnot\u001b[0m \u001b[0mis_setup_ctx_defined\u001b[0m\u001b[1;33m:\u001b[0m\u001b[1;33m\u001b[0m\u001b[1;33m\u001b[0m\u001b[0m\n",
      "\u001b[1;32mc:\\Users\\PoraRee\\.conda\\envs\\tracktacular_rep\\lib\\site-packages\\mmcv\\ops\\multi_scale_deform_attn.py\u001b[0m in \u001b[0;36mforward\u001b[1;34m(ctx, value, value_spatial_shapes, value_level_start_index, sampling_locations, attention_weights, im2col_step)\u001b[0m\n\u001b[0;32m     62\u001b[0m         \u001b[0mattention_weights\u001b[0m \u001b[1;33m=\u001b[0m \u001b[0mattention_weights\u001b[0m\u001b[1;33m.\u001b[0m\u001b[0mtype_as\u001b[0m\u001b[1;33m(\u001b[0m\u001b[0mvalue\u001b[0m\u001b[1;33m)\u001b[0m\u001b[1;33m\u001b[0m\u001b[1;33m\u001b[0m\u001b[0m\n\u001b[0;32m     63\u001b[0m \u001b[1;33m\u001b[0m\u001b[0m\n\u001b[1;32m---> 64\u001b[1;33m         output = ext_module.ms_deform_attn_forward(\n\u001b[0m\u001b[0;32m     65\u001b[0m             \u001b[0mvalue\u001b[0m\u001b[1;33m,\u001b[0m\u001b[1;33m\u001b[0m\u001b[1;33m\u001b[0m\u001b[0m\n\u001b[0;32m     66\u001b[0m             \u001b[0mvalue_spatial_shapes\u001b[0m\u001b[1;33m,\u001b[0m\u001b[1;33m\u001b[0m\u001b[1;33m\u001b[0m\u001b[0m\n",
      "\u001b[1;31mRuntimeError\u001b[0m: ms_deform_attn_impl_forward: implementation for device cuda:0 not found.\n\nException raised from Dispatch at C:\\Users\\PoraRee\\AppData\\Local\\Temp\\pip-install-672wsqnj\\mmcv_cb600b9f4be24b059bad090755f46a85\\mmcv\\ops\\csrc\\common\\pytorch_device_registry.hpp:122 (most recent call first):\n00007FFEEEA891D900007FFEEEA89130 c10.dll!c10::Error::Error [<unknown file> @ <unknown line number>]\n00007FFEEEA87A6A00007FFEEEA87A10 c10.dll!c10::detail::torchCheckFail [<unknown file> @ <unknown line number>]\n00007FFD3CF278CD00007FFD3CEC65F0 _ext.cp39-win_amd64.pyd!c10::ivalue::Object::operator= [<unknown file> @ <unknown line number>]\n00007FFD3CF27E4500007FFD3CEC65F0 _ext.cp39-win_amd64.pyd!c10::ivalue::Object::operator= [<unknown file> @ <unknown line number>]\n00007FFD3CF555B800007FFD3CF353E0 _ext.cp39-win_amd64.pyd!PyInit__ext [<unknown file> @ <unknown line number>]\n00007FFD3CF5564400007FFD3CF353E0 _ext.cp39-win_amd64.pyd!PyInit__ext [<unknown file> @ <unknown line number>]\n00007FFD3CF3430A00007FFD3CEC65F0 _ext.cp39-win_amd64.pyd!c10::ivalue::Object::operator= [<unknown file> @ <unknown line number>]\n00007FFE4AA0224D00007FFE4AA01340 python39.dll!PyCFunction_GetFlags [<unknown file> @ <unknown line number>]\n00007FFE4A9B832F00007FFE4A9B8220 python39.dll!PyObject_MakeTpCall [<unknown file> @ <unknown line number>]\n00007FFE4AAF7E8F00007FFE4AAF7B00 python39.dll!PyEval_GetFuncDesc [<unknown file> @ <unknown line number>]\n00007FFE4AAF3C7300007FFE4AAF0710 python39.dll!PyEval_EvalFrameDefault [<unknown file> @ <unknown line number>]\n00007FFE4A9B86B100007FFE4A9B8620 python39.dll!PyCFunction_Call [<unknown file> @ <unknown line number>]\n00007FFE4A9B879E00007FFE4A9B8720 python39.dll!PyFunction_Vectorcall [<unknown file> @ <unknown line number>]\n00007FFE4A9B851B00007FFE4A9B84D0 python39.dll!PyObject_Call [<unknown file> @ <unknown line number>]\n00007FFE49D65DB100007FFE49D51D90 torch_python.dll!THPPointer<PyCodeObject>::THPPointer<PyCodeObject> [<unknown file> @ <unknown line number>]\n00007FFE4AA0228800007FFE4AA01340 python39.dll!PyCFunction_GetFlags [<unknown file> @ <unknown line number>]\n00007FFE4A9B857C00007FFE4A9B84D0 python39.dll!PyObject_Call [<unknown file> @ <unknown line number>]\n00007FFE4AAF812C00007FFE4AAF7B00 python39.dll!PyEval_GetFuncDesc [<unknown file> @ <unknown line number>]\n00007FFE4AAF367C00007FFE4AAF0710 python39.dll!PyEval_EvalFrameDefault [<unknown file> @ <unknown line number>]\n00007FFE4AAF66A500007FFE4AAF0710 python39.dll!PyEval_EvalFrameDefault [<unknown file> @ <unknown line number>]\n00007FFE4A9B88A400007FFE4A9B8720 python39.dll!PyFunction_Vectorcall [<unknown file> @ <unknown line number>]\n00007FFE4A9BAEA100007FFE4A9BAA10 python39.dll!PyCell_Set [<unknown file> @ <unknown line number>]\n00007FFE4A9BB0CD00007FFE4A9BB010 python39.dll!PyMethod_Self [<unknown file> @ <unknown line number>]\n00007FFE4AAEE9E100007FFE4AAEE720 python39.dll!PyOS_URandomNonblock [<unknown file> @ <unknown line number>]\n00007FFE4AAF7E8F00007FFE4AAF7B00 python39.dll!PyEval_GetFuncDesc [<unknown file> @ <unknown line number>]\n00007FFE4AAF3C2E00007FFE4AAF0710 python39.dll!PyEval_EvalFrameDefault [<unknown file> @ <unknown line number>]\n00007FFE4AAF66A500007FFE4AAF0710 python39.dll!PyEval_EvalFrameDefault [<unknown file> @ <unknown line number>]\n00007FFE4A9B88A400007FFE4A9B8720 python39.dll!PyFunction_Vectorcall [<unknown file> @ <unknown line number>]\n00007FFE4A9BAEA100007FFE4A9BAA10 python39.dll!PyCell_Set [<unknown file> @ <unknown line number>]\n00007FFE4A9BB0CD00007FFE4A9BB010 python39.dll!PyMethod_Self [<unknown file> @ <unknown line number>]\n00007FFE4A9B843100007FFE4A9B8370 python39.dll!PyVectorcall_Call [<unknown file> @ <unknown line number>]\n00007FFE4A9B851B00007FFE4A9B84D0 python39.dll!PyObject_Call [<unknown file> @ <unknown line number>]\n00007FFE4AAF806E00007FFE4AAF7B00 python39.dll!PyEval_GetFuncDesc [<unknown file> @ <unknown line number>]\n00007FFE4AAF367C00007FFE4AAF0710 python39.dll!PyEval_EvalFrameDefault [<unknown file> @ <unknown line number>]\n00007FFE4AAF66A500007FFE4AAF0710 python39.dll!PyEval_EvalFrameDefault [<unknown file> @ <unknown line number>]\n00007FFE4A9B88A400007FFE4A9B8720 python39.dll!PyFunction_Vectorcall [<unknown file> @ <unknown line number>]\n00007FFE4A9BAEA100007FFE4A9BAA10 python39.dll!PyCell_Set [<unknown file> @ <unknown line number>]\n00007FFE4A9BB0CD00007FFE4A9BB010 python39.dll!PyMethod_Self [<unknown file> @ <unknown line number>]\n00007FFE4A9B843100007FFE4A9B8370 python39.dll!PyVectorcall_Call [<unknown file> @ <unknown line number>]\n00007FFE4A9B851B00007FFE4A9B84D0 python39.dll!PyObject_Call [<unknown file> @ <unknown line number>]\n00007FFE4AAF806E00007FFE4AAF7B00 python39.dll!PyEval_GetFuncDesc [<unknown file> @ <unknown line number>]\n00007FFE4AAF367C00007FFE4AAF0710 python39.dll!PyEval_EvalFrameDefault [<unknown file> @ <unknown line number>]\n00007FFE4AAF66A500007FFE4AAF0710 python39.dll!PyEval_EvalFrameDefault [<unknown file> @ <unknown line number>]\n00007FFE4A9B88A400007FFE4A9B8720 python39.dll!PyFunction_Vectorcall [<unknown file> @ <unknown line number>]\n00007FFE4A9B814100007FFE4A9B8090 python39.dll!PyObject_FastCallDictTstate [<unknown file> @ <unknown line number>]\n00007FFE4A9B8B4200007FFE4A9B8AA0 python39.dll!PyObject_Call_Prepend [<unknown file> @ <unknown line number>]\n00007FFE4AA2F12D00007FFE4AA2AC40 python39.dll!PyType_Ready [<unknown file> @ <unknown line number>]\n00007FFE4A9B832F00007FFE4A9B8220 python39.dll!PyObject_MakeTpCall [<unknown file> @ <unknown line number>]\n00007FFE4AAF7E8F00007FFE4AAF7B00 python39.dll!PyEval_GetFuncDesc [<unknown file> @ <unknown line number>]\n00007FFE4AAF3C7300007FFE4AAF0710 python39.dll!PyEval_EvalFrameDefault [<unknown file> @ <unknown line number>]\n00007FFE4AAF66A500007FFE4AAF0710 python39.dll!PyEval_EvalFrameDefault [<unknown file> @ <unknown line number>]\n00007FFE4A9B88A400007FFE4A9B8720 python39.dll!PyFunction_Vectorcall [<unknown file> @ <unknown line number>]\n00007FFE4A9BAEA100007FFE4A9BAA10 python39.dll!PyCell_Set [<unknown file> @ <unknown line number>]\n00007FFE4A9BB16A00007FFE4A9BB010 python39.dll!PyMethod_Self [<unknown file> @ <unknown line number>]\n00007FFE4A9B851B00007FFE4A9B84D0 python39.dll!PyObject_Call [<unknown file> @ <unknown line number>]\n00007FFE4AAF806E00007FFE4AAF7B00 python39.dll!PyEval_GetFuncDesc [<unknown file> @ <unknown line number>]\n00007FFE4AAF367C00007FFE4AAF0710 python39.dll!PyEval_EvalFrameDefault [<unknown file> @ <unknown line number>]\n00007FFE4AAF66A500007FFE4AAF0710 python39.dll!PyEval_EvalFrameDefault [<unknown file> @ <unknown line number>]\n00007FFE4A9B88A400007FFE4A9B8720 python39.dll!PyFunction_Vectorcall [<unknown file> @ <unknown line number>]\n00007FFE4A9BAEA100007FFE4A9BAA10 python39.dll!PyCell_Set [<unknown file> @ <unknown line number>]\n00007FFE4A9BB16A00007FFE4A9BB010 python39.dll!PyMethod_Self [<unknown file> @ <unknown line number>]\n00007FFE4A9B851B00007FFE4A9B84D0 python39.dll!PyObject_Call [<unknown file> @ <unknown line number>]\n00007FFE4AAF806E00007FFE4AAF7B00 python39.dll!PyEval_GetFuncDesc [<unknown file> @ <unknown line number>]\n00007FFE4AAF367C00007FFE4AAF0710 python39.dll!PyEval_EvalFrameDefault [<unknown file> @ <unknown line number>]\n"
     ]
    }
   ],
   "source": [
    "self_attn_layers[0].to('cuda')(bev_queries, Y, X, bev_queries_pos)"
   ]
  },
  {
   "cell_type": "code",
   "execution_count": null,
   "metadata": {},
   "outputs": [],
   "source": []
  },
  {
   "cell_type": "code",
   "execution_count": 142,
   "metadata": {},
   "outputs": [
    {
     "name": "stdout",
     "output_type": "stream",
     "text": [
      "SELF ATTN\n"
     ]
    },
    {
     "ename": "RuntimeError",
     "evalue": "ms_deform_attn_impl_forward: implementation for device cuda:0 not found.\n\nException raised from Dispatch at C:\\Users\\PoraRee\\AppData\\Local\\Temp\\pip-install-672wsqnj\\mmcv_cb600b9f4be24b059bad090755f46a85\\mmcv\\ops\\csrc\\common\\pytorch_device_registry.hpp:122 (most recent call first):\n00007FFEEEA891D900007FFEEEA89130 c10.dll!c10::Error::Error [<unknown file> @ <unknown line number>]\n00007FFEEEA87A6A00007FFEEEA87A10 c10.dll!c10::detail::torchCheckFail [<unknown file> @ <unknown line number>]\n00007FFD3CF278CD00007FFD3CEC65F0 _ext.cp39-win_amd64.pyd!c10::ivalue::Object::operator= [<unknown file> @ <unknown line number>]\n00007FFD3CF27E4500007FFD3CEC65F0 _ext.cp39-win_amd64.pyd!c10::ivalue::Object::operator= [<unknown file> @ <unknown line number>]\n00007FFD3CF555B800007FFD3CF353E0 _ext.cp39-win_amd64.pyd!PyInit__ext [<unknown file> @ <unknown line number>]\n00007FFD3CF5564400007FFD3CF353E0 _ext.cp39-win_amd64.pyd!PyInit__ext [<unknown file> @ <unknown line number>]\n00007FFD3CF3430A00007FFD3CEC65F0 _ext.cp39-win_amd64.pyd!c10::ivalue::Object::operator= [<unknown file> @ <unknown line number>]\n00007FFE4AA0224D00007FFE4AA01340 python39.dll!PyCFunction_GetFlags [<unknown file> @ <unknown line number>]\n00007FFE4A9B832F00007FFE4A9B8220 python39.dll!PyObject_MakeTpCall [<unknown file> @ <unknown line number>]\n00007FFE4AAF7E8F00007FFE4AAF7B00 python39.dll!PyEval_GetFuncDesc [<unknown file> @ <unknown line number>]\n00007FFE4AAF3C7300007FFE4AAF0710 python39.dll!PyEval_EvalFrameDefault [<unknown file> @ <unknown line number>]\n00007FFE4A9B86B100007FFE4A9B8620 python39.dll!PyCFunction_Call [<unknown file> @ <unknown line number>]\n00007FFE4A9B879E00007FFE4A9B8720 python39.dll!PyFunction_Vectorcall [<unknown file> @ <unknown line number>]\n00007FFE4A9B851B00007FFE4A9B84D0 python39.dll!PyObject_Call [<unknown file> @ <unknown line number>]\n00007FFE49D65DB100007FFE49D51D90 torch_python.dll!THPPointer<PyCodeObject>::THPPointer<PyCodeObject> [<unknown file> @ <unknown line number>]\n00007FFE4AA0228800007FFE4AA01340 python39.dll!PyCFunction_GetFlags [<unknown file> @ <unknown line number>]\n00007FFE4A9B857C00007FFE4A9B84D0 python39.dll!PyObject_Call [<unknown file> @ <unknown line number>]\n00007FFE4AAF812C00007FFE4AAF7B00 python39.dll!PyEval_GetFuncDesc [<unknown file> @ <unknown line number>]\n00007FFE4AAF367C00007FFE4AAF0710 python39.dll!PyEval_EvalFrameDefault [<unknown file> @ <unknown line number>]\n00007FFE4AAF66A500007FFE4AAF0710 python39.dll!PyEval_EvalFrameDefault [<unknown file> @ <unknown line number>]\n00007FFE4A9B88A400007FFE4A9B8720 python39.dll!PyFunction_Vectorcall [<unknown file> @ <unknown line number>]\n00007FFE4A9BAEA100007FFE4A9BAA10 python39.dll!PyCell_Set [<unknown file> @ <unknown line number>]\n00007FFE4A9BB0CD00007FFE4A9BB010 python39.dll!PyMethod_Self [<unknown file> @ <unknown line number>]\n00007FFE4AAEE9E100007FFE4AAEE720 python39.dll!PyOS_URandomNonblock [<unknown file> @ <unknown line number>]\n00007FFE4AAF7E8F00007FFE4AAF7B00 python39.dll!PyEval_GetFuncDesc [<unknown file> @ <unknown line number>]\n00007FFE4AAF3C2E00007FFE4AAF0710 python39.dll!PyEval_EvalFrameDefault [<unknown file> @ <unknown line number>]\n00007FFE4AAF66A500007FFE4AAF0710 python39.dll!PyEval_EvalFrameDefault [<unknown file> @ <unknown line number>]\n00007FFE4A9B88A400007FFE4A9B8720 python39.dll!PyFunction_Vectorcall [<unknown file> @ <unknown line number>]\n00007FFE4A9BAEA100007FFE4A9BAA10 python39.dll!PyCell_Set [<unknown file> @ <unknown line number>]\n00007FFE4A9BB0CD00007FFE4A9BB010 python39.dll!PyMethod_Self [<unknown file> @ <unknown line number>]\n00007FFE4A9B843100007FFE4A9B8370 python39.dll!PyVectorcall_Call [<unknown file> @ <unknown line number>]\n00007FFE4A9B851B00007FFE4A9B84D0 python39.dll!PyObject_Call [<unknown file> @ <unknown line number>]\n00007FFE4AAF806E00007FFE4AAF7B00 python39.dll!PyEval_GetFuncDesc [<unknown file> @ <unknown line number>]\n00007FFE4AAF367C00007FFE4AAF0710 python39.dll!PyEval_EvalFrameDefault [<unknown file> @ <unknown line number>]\n00007FFE4AAF66A500007FFE4AAF0710 python39.dll!PyEval_EvalFrameDefault [<unknown file> @ <unknown line number>]\n00007FFE4A9B88A400007FFE4A9B8720 python39.dll!PyFunction_Vectorcall [<unknown file> @ <unknown line number>]\n00007FFE4A9BAEA100007FFE4A9BAA10 python39.dll!PyCell_Set [<unknown file> @ <unknown line number>]\n00007FFE4A9BB0CD00007FFE4A9BB010 python39.dll!PyMethod_Self [<unknown file> @ <unknown line number>]\n00007FFE4A9B843100007FFE4A9B8370 python39.dll!PyVectorcall_Call [<unknown file> @ <unknown line number>]\n00007FFE4A9B851B00007FFE4A9B84D0 python39.dll!PyObject_Call [<unknown file> @ <unknown line number>]\n00007FFE4AAF806E00007FFE4AAF7B00 python39.dll!PyEval_GetFuncDesc [<unknown file> @ <unknown line number>]\n00007FFE4AAF367C00007FFE4AAF0710 python39.dll!PyEval_EvalFrameDefault [<unknown file> @ <unknown line number>]\n00007FFE4AAF66A500007FFE4AAF0710 python39.dll!PyEval_EvalFrameDefault [<unknown file> @ <unknown line number>]\n00007FFE4A9B88A400007FFE4A9B8720 python39.dll!PyFunction_Vectorcall [<unknown file> @ <unknown line number>]\n00007FFE4A9B814100007FFE4A9B8090 python39.dll!PyObject_FastCallDictTstate [<unknown file> @ <unknown line number>]\n00007FFE4A9B8B4200007FFE4A9B8AA0 python39.dll!PyObject_Call_Prepend [<unknown file> @ <unknown line number>]\n00007FFE4AA2F12D00007FFE4AA2AC40 python39.dll!PyType_Ready [<unknown file> @ <unknown line number>]\n00007FFE4A9B832F00007FFE4A9B8220 python39.dll!PyObject_MakeTpCall [<unknown file> @ <unknown line number>]\n00007FFE4AAF7E8F00007FFE4AAF7B00 python39.dll!PyEval_GetFuncDesc [<unknown file> @ <unknown line number>]\n00007FFE4AAF3C7300007FFE4AAF0710 python39.dll!PyEval_EvalFrameDefault [<unknown file> @ <unknown line number>]\n00007FFE4AAF66A500007FFE4AAF0710 python39.dll!PyEval_EvalFrameDefault [<unknown file> @ <unknown line number>]\n00007FFE4A9B88A400007FFE4A9B8720 python39.dll!PyFunction_Vectorcall [<unknown file> @ <unknown line number>]\n00007FFE4A9BAEA100007FFE4A9BAA10 python39.dll!PyCell_Set [<unknown file> @ <unknown line number>]\n00007FFE4A9BB16A00007FFE4A9BB010 python39.dll!PyMethod_Self [<unknown file> @ <unknown line number>]\n00007FFE4A9B851B00007FFE4A9B84D0 python39.dll!PyObject_Call [<unknown file> @ <unknown line number>]\n00007FFE4AAF806E00007FFE4AAF7B00 python39.dll!PyEval_GetFuncDesc [<unknown file> @ <unknown line number>]\n00007FFE4AAF367C00007FFE4AAF0710 python39.dll!PyEval_EvalFrameDefault [<unknown file> @ <unknown line number>]\n00007FFE4AAF66A500007FFE4AAF0710 python39.dll!PyEval_EvalFrameDefault [<unknown file> @ <unknown line number>]\n00007FFE4A9B88A400007FFE4A9B8720 python39.dll!PyFunction_Vectorcall [<unknown file> @ <unknown line number>]\n00007FFE4A9BAEA100007FFE4A9BAA10 python39.dll!PyCell_Set [<unknown file> @ <unknown line number>]\n00007FFE4A9BB16A00007FFE4A9BB010 python39.dll!PyMethod_Self [<unknown file> @ <unknown line number>]\n00007FFE4A9B851B00007FFE4A9B84D0 python39.dll!PyObject_Call [<unknown file> @ <unknown line number>]\n00007FFE4AAF806E00007FFE4AAF7B00 python39.dll!PyEval_GetFuncDesc [<unknown file> @ <unknown line number>]\n00007FFE4AAF367C00007FFE4AAF0710 python39.dll!PyEval_EvalFrameDefault [<unknown file> @ <unknown line number>]\n",
     "output_type": "error",
     "traceback": [
      "\u001b[1;31m---------------------------------------------------------------------------\u001b[0m",
      "\u001b[1;31mRuntimeError\u001b[0m                              Traceback (most recent call last)",
      "\u001b[1;32m~\\AppData\\Local\\Temp/ipykernel_27332/1790887061.py\u001b[0m in \u001b[0;36m<module>\u001b[1;34m\u001b[0m\n\u001b[0;32m      2\u001b[0m     \u001b[0mprint\u001b[0m\u001b[1;33m(\u001b[0m\u001b[1;34m\"SELF ATTN\"\u001b[0m\u001b[1;33m)\u001b[0m\u001b[1;33m\u001b[0m\u001b[1;33m\u001b[0m\u001b[0m\n\u001b[0;32m      3\u001b[0m     \u001b[1;31m# self attention within the features (B, Y*X, C)\u001b[0m\u001b[1;33m\u001b[0m\u001b[1;33m\u001b[0m\u001b[0m\n\u001b[1;32m----> 4\u001b[1;33m     \u001b[0mbev_queries\u001b[0m \u001b[1;33m=\u001b[0m \u001b[0mself_attn_layers\u001b[0m\u001b[1;33m[\u001b[0m\u001b[0mi\u001b[0m\u001b[1;33m]\u001b[0m\u001b[1;33m(\u001b[0m\u001b[0mbev_queries\u001b[0m\u001b[1;33m,\u001b[0m \u001b[0mY\u001b[0m\u001b[1;33m,\u001b[0m \u001b[0mX\u001b[0m\u001b[1;33m,\u001b[0m \u001b[0mbev_queries_pos\u001b[0m\u001b[1;33m)\u001b[0m\u001b[1;33m\u001b[0m\u001b[1;33m\u001b[0m\u001b[0m\n\u001b[0m\u001b[0;32m      5\u001b[0m \u001b[1;33m\u001b[0m\u001b[0m\n\u001b[0;32m      6\u001b[0m     \u001b[0mprint\u001b[0m\u001b[1;33m(\u001b[0m\u001b[1;34m\"NORM1\"\u001b[0m\u001b[1;33m)\u001b[0m\u001b[1;33m\u001b[0m\u001b[1;33m\u001b[0m\u001b[0m\n",
      "\u001b[1;32mc:\\Users\\PoraRee\\.conda\\envs\\tracktacular_rep\\lib\\site-packages\\torch\\nn\\modules\\module.py\u001b[0m in \u001b[0;36m_wrapped_call_impl\u001b[1;34m(self, *args, **kwargs)\u001b[0m\n\u001b[0;32m   1737\u001b[0m             \u001b[1;32mreturn\u001b[0m \u001b[0mself\u001b[0m\u001b[1;33m.\u001b[0m\u001b[0m_compiled_call_impl\u001b[0m\u001b[1;33m(\u001b[0m\u001b[1;33m*\u001b[0m\u001b[0margs\u001b[0m\u001b[1;33m,\u001b[0m \u001b[1;33m**\u001b[0m\u001b[0mkwargs\u001b[0m\u001b[1;33m)\u001b[0m  \u001b[1;31m# type: ignore[misc]\u001b[0m\u001b[1;33m\u001b[0m\u001b[1;33m\u001b[0m\u001b[0m\n\u001b[0;32m   1738\u001b[0m         \u001b[1;32melse\u001b[0m\u001b[1;33m:\u001b[0m\u001b[1;33m\u001b[0m\u001b[1;33m\u001b[0m\u001b[0m\n\u001b[1;32m-> 1739\u001b[1;33m             \u001b[1;32mreturn\u001b[0m \u001b[0mself\u001b[0m\u001b[1;33m.\u001b[0m\u001b[0m_call_impl\u001b[0m\u001b[1;33m(\u001b[0m\u001b[1;33m*\u001b[0m\u001b[0margs\u001b[0m\u001b[1;33m,\u001b[0m \u001b[1;33m**\u001b[0m\u001b[0mkwargs\u001b[0m\u001b[1;33m)\u001b[0m\u001b[1;33m\u001b[0m\u001b[1;33m\u001b[0m\u001b[0m\n\u001b[0m\u001b[0;32m   1740\u001b[0m \u001b[1;33m\u001b[0m\u001b[0m\n\u001b[0;32m   1741\u001b[0m     \u001b[1;31m# torchrec tests the code consistency with the following code\u001b[0m\u001b[1;33m\u001b[0m\u001b[1;33m\u001b[0m\u001b[0m\n",
      "\u001b[1;32mc:\\Users\\PoraRee\\.conda\\envs\\tracktacular_rep\\lib\\site-packages\\torch\\nn\\modules\\module.py\u001b[0m in \u001b[0;36m_call_impl\u001b[1;34m(self, *args, **kwargs)\u001b[0m\n\u001b[0;32m   1748\u001b[0m                 \u001b[1;32mor\u001b[0m \u001b[0m_global_backward_pre_hooks\u001b[0m \u001b[1;32mor\u001b[0m \u001b[0m_global_backward_hooks\u001b[0m\u001b[1;33m\u001b[0m\u001b[1;33m\u001b[0m\u001b[0m\n\u001b[0;32m   1749\u001b[0m                 or _global_forward_hooks or _global_forward_pre_hooks):\n\u001b[1;32m-> 1750\u001b[1;33m             \u001b[1;32mreturn\u001b[0m \u001b[0mforward_call\u001b[0m\u001b[1;33m(\u001b[0m\u001b[1;33m*\u001b[0m\u001b[0margs\u001b[0m\u001b[1;33m,\u001b[0m \u001b[1;33m**\u001b[0m\u001b[0mkwargs\u001b[0m\u001b[1;33m)\u001b[0m\u001b[1;33m\u001b[0m\u001b[1;33m\u001b[0m\u001b[0m\n\u001b[0m\u001b[0;32m   1751\u001b[0m \u001b[1;33m\u001b[0m\u001b[0m\n\u001b[0;32m   1752\u001b[0m         \u001b[0mresult\u001b[0m \u001b[1;33m=\u001b[0m \u001b[1;32mNone\u001b[0m\u001b[1;33m\u001b[0m\u001b[1;33m\u001b[0m\u001b[0m\n",
      "\u001b[1;32mc:\\Users\\PoraRee\\Desktop\\TrackTacular\\notebooks\\../WorldTrack\\models\\bevformernet.py\u001b[0m in \u001b[0;36mforward\u001b[1;34m(self, query, Y, X, query_pos)\u001b[0m\n\u001b[0;32m     45\u001b[0m         \u001b[0minput_spatial_shapes\u001b[0m\u001b[1;33m[\u001b[0m\u001b[1;36m0\u001b[0m\u001b[1;33m,\u001b[0m \u001b[1;36m1\u001b[0m\u001b[1;33m]\u001b[0m \u001b[1;33m=\u001b[0m \u001b[0mX\u001b[0m\u001b[1;33m\u001b[0m\u001b[1;33m\u001b[0m\u001b[0m\n\u001b[0;32m     46\u001b[0m         \u001b[0minput_level_start_index\u001b[0m \u001b[1;33m=\u001b[0m \u001b[0mquery\u001b[0m\u001b[1;33m.\u001b[0m\u001b[0mnew_zeros\u001b[0m\u001b[1;33m(\u001b[0m\u001b[1;33m[\u001b[0m\u001b[1;36m1\u001b[0m\u001b[1;33m,\u001b[0m \u001b[1;33m]\u001b[0m\u001b[1;33m)\u001b[0m\u001b[1;33m.\u001b[0m\u001b[0mlong\u001b[0m\u001b[1;33m(\u001b[0m\u001b[1;33m)\u001b[0m\u001b[1;33m\u001b[0m\u001b[1;33m\u001b[0m\u001b[0m\n\u001b[1;32m---> 47\u001b[1;33m         queries = self.deformable_attention(query=query,\n\u001b[0m\u001b[0;32m     48\u001b[0m                                             \u001b[0mreference_points\u001b[0m\u001b[1;33m=\u001b[0m\u001b[0mreference_points\u001b[0m\u001b[1;33m,\u001b[0m\u001b[1;33m\u001b[0m\u001b[1;33m\u001b[0m\u001b[0m\n\u001b[0;32m     49\u001b[0m                                             \u001b[0minput_flatten\u001b[0m\u001b[1;33m=\u001b[0m\u001b[0mquery\u001b[0m\u001b[1;33m.\u001b[0m\u001b[0mclone\u001b[0m\u001b[1;33m(\u001b[0m\u001b[1;33m)\u001b[0m\u001b[1;33m,\u001b[0m\u001b[1;33m\u001b[0m\u001b[1;33m\u001b[0m\u001b[0m\n",
      "\u001b[1;32mc:\\Users\\PoraRee\\.conda\\envs\\tracktacular_rep\\lib\\site-packages\\torch\\nn\\modules\\module.py\u001b[0m in \u001b[0;36m_wrapped_call_impl\u001b[1;34m(self, *args, **kwargs)\u001b[0m\n\u001b[0;32m   1737\u001b[0m             \u001b[1;32mreturn\u001b[0m \u001b[0mself\u001b[0m\u001b[1;33m.\u001b[0m\u001b[0m_compiled_call_impl\u001b[0m\u001b[1;33m(\u001b[0m\u001b[1;33m*\u001b[0m\u001b[0margs\u001b[0m\u001b[1;33m,\u001b[0m \u001b[1;33m**\u001b[0m\u001b[0mkwargs\u001b[0m\u001b[1;33m)\u001b[0m  \u001b[1;31m# type: ignore[misc]\u001b[0m\u001b[1;33m\u001b[0m\u001b[1;33m\u001b[0m\u001b[0m\n\u001b[0;32m   1738\u001b[0m         \u001b[1;32melse\u001b[0m\u001b[1;33m:\u001b[0m\u001b[1;33m\u001b[0m\u001b[1;33m\u001b[0m\u001b[0m\n\u001b[1;32m-> 1739\u001b[1;33m             \u001b[1;32mreturn\u001b[0m \u001b[0mself\u001b[0m\u001b[1;33m.\u001b[0m\u001b[0m_call_impl\u001b[0m\u001b[1;33m(\u001b[0m\u001b[1;33m*\u001b[0m\u001b[0margs\u001b[0m\u001b[1;33m,\u001b[0m \u001b[1;33m**\u001b[0m\u001b[0mkwargs\u001b[0m\u001b[1;33m)\u001b[0m\u001b[1;33m\u001b[0m\u001b[1;33m\u001b[0m\u001b[0m\n\u001b[0m\u001b[0;32m   1740\u001b[0m \u001b[1;33m\u001b[0m\u001b[0m\n\u001b[0;32m   1741\u001b[0m     \u001b[1;31m# torchrec tests the code consistency with the following code\u001b[0m\u001b[1;33m\u001b[0m\u001b[1;33m\u001b[0m\u001b[0m\n",
      "\u001b[1;32mc:\\Users\\PoraRee\\.conda\\envs\\tracktacular_rep\\lib\\site-packages\\torch\\nn\\modules\\module.py\u001b[0m in \u001b[0;36m_call_impl\u001b[1;34m(self, *args, **kwargs)\u001b[0m\n\u001b[0;32m   1748\u001b[0m                 \u001b[1;32mor\u001b[0m \u001b[0m_global_backward_pre_hooks\u001b[0m \u001b[1;32mor\u001b[0m \u001b[0m_global_backward_hooks\u001b[0m\u001b[1;33m\u001b[0m\u001b[1;33m\u001b[0m\u001b[0m\n\u001b[0;32m   1749\u001b[0m                 or _global_forward_hooks or _global_forward_pre_hooks):\n\u001b[1;32m-> 1750\u001b[1;33m             \u001b[1;32mreturn\u001b[0m \u001b[0mforward_call\u001b[0m\u001b[1;33m(\u001b[0m\u001b[1;33m*\u001b[0m\u001b[0margs\u001b[0m\u001b[1;33m,\u001b[0m \u001b[1;33m**\u001b[0m\u001b[0mkwargs\u001b[0m\u001b[1;33m)\u001b[0m\u001b[1;33m\u001b[0m\u001b[1;33m\u001b[0m\u001b[0m\n\u001b[0m\u001b[0;32m   1751\u001b[0m \u001b[1;33m\u001b[0m\u001b[0m\n\u001b[0;32m   1752\u001b[0m         \u001b[0mresult\u001b[0m \u001b[1;33m=\u001b[0m \u001b[1;32mNone\u001b[0m\u001b[1;33m\u001b[0m\u001b[1;33m\u001b[0m\u001b[0m\n",
      "\u001b[1;32mc:\\Users\\PoraRee\\Desktop\\TrackTacular\\notebooks\\../WorldTrack\\models\\ops\\ms_deform_attn.py\u001b[0m in \u001b[0;36mforward\u001b[1;34m(self, query, reference_points, input_flatten, input_spatial_shapes, input_level_start_index, input_padding_mask)\u001b[0m\n\u001b[0;32m    110\u001b[0m             raise ValueError(\n\u001b[0;32m    111\u001b[0m                 'Last dim of reference_points must be 2 or 4, but get {} instead.'.format(reference_points.shape[-1]))\n\u001b[1;32m--> 112\u001b[1;33m         output = MultiScaleDeformableAttnFunction.apply(\n\u001b[0m\u001b[0;32m    113\u001b[0m             \u001b[0mvalue\u001b[0m\u001b[1;33m,\u001b[0m \u001b[0minput_spatial_shapes\u001b[0m\u001b[1;33m,\u001b[0m \u001b[0minput_level_start_index\u001b[0m\u001b[1;33m,\u001b[0m \u001b[0msampling_locations\u001b[0m\u001b[1;33m,\u001b[0m \u001b[0mattention_weights\u001b[0m\u001b[1;33m,\u001b[0m\u001b[1;33m\u001b[0m\u001b[1;33m\u001b[0m\u001b[0m\n\u001b[0;32m    114\u001b[0m             self.im2col_step)\n",
      "\u001b[1;32mc:\\Users\\PoraRee\\.conda\\envs\\tracktacular_rep\\lib\\site-packages\\torch\\autograd\\function.py\u001b[0m in \u001b[0;36mapply\u001b[1;34m(cls, *args, **kwargs)\u001b[0m\n\u001b[0;32m    573\u001b[0m             \u001b[1;31m# See NOTE: [functorch vjp and autograd interaction]\u001b[0m\u001b[1;33m\u001b[0m\u001b[1;33m\u001b[0m\u001b[0m\n\u001b[0;32m    574\u001b[0m             \u001b[0margs\u001b[0m \u001b[1;33m=\u001b[0m \u001b[0m_functorch\u001b[0m\u001b[1;33m.\u001b[0m\u001b[0mutils\u001b[0m\u001b[1;33m.\u001b[0m\u001b[0munwrap_dead_wrappers\u001b[0m\u001b[1;33m(\u001b[0m\u001b[0margs\u001b[0m\u001b[1;33m)\u001b[0m\u001b[1;33m\u001b[0m\u001b[1;33m\u001b[0m\u001b[0m\n\u001b[1;32m--> 575\u001b[1;33m             \u001b[1;32mreturn\u001b[0m \u001b[0msuper\u001b[0m\u001b[1;33m(\u001b[0m\u001b[1;33m)\u001b[0m\u001b[1;33m.\u001b[0m\u001b[0mapply\u001b[0m\u001b[1;33m(\u001b[0m\u001b[1;33m*\u001b[0m\u001b[0margs\u001b[0m\u001b[1;33m,\u001b[0m \u001b[1;33m**\u001b[0m\u001b[0mkwargs\u001b[0m\u001b[1;33m)\u001b[0m  \u001b[1;31m# type: ignore[misc]\u001b[0m\u001b[1;33m\u001b[0m\u001b[1;33m\u001b[0m\u001b[0m\n\u001b[0m\u001b[0;32m    576\u001b[0m \u001b[1;33m\u001b[0m\u001b[0m\n\u001b[0;32m    577\u001b[0m         \u001b[1;32mif\u001b[0m \u001b[1;32mnot\u001b[0m \u001b[0mis_setup_ctx_defined\u001b[0m\u001b[1;33m:\u001b[0m\u001b[1;33m\u001b[0m\u001b[1;33m\u001b[0m\u001b[0m\n",
      "\u001b[1;32mc:\\Users\\PoraRee\\.conda\\envs\\tracktacular_rep\\lib\\site-packages\\mmcv\\ops\\multi_scale_deform_attn.py\u001b[0m in \u001b[0;36mforward\u001b[1;34m(ctx, value, value_spatial_shapes, value_level_start_index, sampling_locations, attention_weights, im2col_step)\u001b[0m\n\u001b[0;32m     62\u001b[0m         \u001b[0mattention_weights\u001b[0m \u001b[1;33m=\u001b[0m \u001b[0mattention_weights\u001b[0m\u001b[1;33m.\u001b[0m\u001b[0mtype_as\u001b[0m\u001b[1;33m(\u001b[0m\u001b[0mvalue\u001b[0m\u001b[1;33m)\u001b[0m\u001b[1;33m\u001b[0m\u001b[1;33m\u001b[0m\u001b[0m\n\u001b[0;32m     63\u001b[0m \u001b[1;33m\u001b[0m\u001b[0m\n\u001b[1;32m---> 64\u001b[1;33m         output = ext_module.ms_deform_attn_forward(\n\u001b[0m\u001b[0;32m     65\u001b[0m             \u001b[0mvalue\u001b[0m\u001b[1;33m,\u001b[0m\u001b[1;33m\u001b[0m\u001b[1;33m\u001b[0m\u001b[0m\n\u001b[0;32m     66\u001b[0m             \u001b[0mvalue_spatial_shapes\u001b[0m\u001b[1;33m,\u001b[0m\u001b[1;33m\u001b[0m\u001b[1;33m\u001b[0m\u001b[0m\n",
      "\u001b[1;31mRuntimeError\u001b[0m: ms_deform_attn_impl_forward: implementation for device cuda:0 not found.\n\nException raised from Dispatch at C:\\Users\\PoraRee\\AppData\\Local\\Temp\\pip-install-672wsqnj\\mmcv_cb600b9f4be24b059bad090755f46a85\\mmcv\\ops\\csrc\\common\\pytorch_device_registry.hpp:122 (most recent call first):\n00007FFEEEA891D900007FFEEEA89130 c10.dll!c10::Error::Error [<unknown file> @ <unknown line number>]\n00007FFEEEA87A6A00007FFEEEA87A10 c10.dll!c10::detail::torchCheckFail [<unknown file> @ <unknown line number>]\n00007FFD3CF278CD00007FFD3CEC65F0 _ext.cp39-win_amd64.pyd!c10::ivalue::Object::operator= [<unknown file> @ <unknown line number>]\n00007FFD3CF27E4500007FFD3CEC65F0 _ext.cp39-win_amd64.pyd!c10::ivalue::Object::operator= [<unknown file> @ <unknown line number>]\n00007FFD3CF555B800007FFD3CF353E0 _ext.cp39-win_amd64.pyd!PyInit__ext [<unknown file> @ <unknown line number>]\n00007FFD3CF5564400007FFD3CF353E0 _ext.cp39-win_amd64.pyd!PyInit__ext [<unknown file> @ <unknown line number>]\n00007FFD3CF3430A00007FFD3CEC65F0 _ext.cp39-win_amd64.pyd!c10::ivalue::Object::operator= [<unknown file> @ <unknown line number>]\n00007FFE4AA0224D00007FFE4AA01340 python39.dll!PyCFunction_GetFlags [<unknown file> @ <unknown line number>]\n00007FFE4A9B832F00007FFE4A9B8220 python39.dll!PyObject_MakeTpCall [<unknown file> @ <unknown line number>]\n00007FFE4AAF7E8F00007FFE4AAF7B00 python39.dll!PyEval_GetFuncDesc [<unknown file> @ <unknown line number>]\n00007FFE4AAF3C7300007FFE4AAF0710 python39.dll!PyEval_EvalFrameDefault [<unknown file> @ <unknown line number>]\n00007FFE4A9B86B100007FFE4A9B8620 python39.dll!PyCFunction_Call [<unknown file> @ <unknown line number>]\n00007FFE4A9B879E00007FFE4A9B8720 python39.dll!PyFunction_Vectorcall [<unknown file> @ <unknown line number>]\n00007FFE4A9B851B00007FFE4A9B84D0 python39.dll!PyObject_Call [<unknown file> @ <unknown line number>]\n00007FFE49D65DB100007FFE49D51D90 torch_python.dll!THPPointer<PyCodeObject>::THPPointer<PyCodeObject> [<unknown file> @ <unknown line number>]\n00007FFE4AA0228800007FFE4AA01340 python39.dll!PyCFunction_GetFlags [<unknown file> @ <unknown line number>]\n00007FFE4A9B857C00007FFE4A9B84D0 python39.dll!PyObject_Call [<unknown file> @ <unknown line number>]\n00007FFE4AAF812C00007FFE4AAF7B00 python39.dll!PyEval_GetFuncDesc [<unknown file> @ <unknown line number>]\n00007FFE4AAF367C00007FFE4AAF0710 python39.dll!PyEval_EvalFrameDefault [<unknown file> @ <unknown line number>]\n00007FFE4AAF66A500007FFE4AAF0710 python39.dll!PyEval_EvalFrameDefault [<unknown file> @ <unknown line number>]\n00007FFE4A9B88A400007FFE4A9B8720 python39.dll!PyFunction_Vectorcall [<unknown file> @ <unknown line number>]\n00007FFE4A9BAEA100007FFE4A9BAA10 python39.dll!PyCell_Set [<unknown file> @ <unknown line number>]\n00007FFE4A9BB0CD00007FFE4A9BB010 python39.dll!PyMethod_Self [<unknown file> @ <unknown line number>]\n00007FFE4AAEE9E100007FFE4AAEE720 python39.dll!PyOS_URandomNonblock [<unknown file> @ <unknown line number>]\n00007FFE4AAF7E8F00007FFE4AAF7B00 python39.dll!PyEval_GetFuncDesc [<unknown file> @ <unknown line number>]\n00007FFE4AAF3C2E00007FFE4AAF0710 python39.dll!PyEval_EvalFrameDefault [<unknown file> @ <unknown line number>]\n00007FFE4AAF66A500007FFE4AAF0710 python39.dll!PyEval_EvalFrameDefault [<unknown file> @ <unknown line number>]\n00007FFE4A9B88A400007FFE4A9B8720 python39.dll!PyFunction_Vectorcall [<unknown file> @ <unknown line number>]\n00007FFE4A9BAEA100007FFE4A9BAA10 python39.dll!PyCell_Set [<unknown file> @ <unknown line number>]\n00007FFE4A9BB0CD00007FFE4A9BB010 python39.dll!PyMethod_Self [<unknown file> @ <unknown line number>]\n00007FFE4A9B843100007FFE4A9B8370 python39.dll!PyVectorcall_Call [<unknown file> @ <unknown line number>]\n00007FFE4A9B851B00007FFE4A9B84D0 python39.dll!PyObject_Call [<unknown file> @ <unknown line number>]\n00007FFE4AAF806E00007FFE4AAF7B00 python39.dll!PyEval_GetFuncDesc [<unknown file> @ <unknown line number>]\n00007FFE4AAF367C00007FFE4AAF0710 python39.dll!PyEval_EvalFrameDefault [<unknown file> @ <unknown line number>]\n00007FFE4AAF66A500007FFE4AAF0710 python39.dll!PyEval_EvalFrameDefault [<unknown file> @ <unknown line number>]\n00007FFE4A9B88A400007FFE4A9B8720 python39.dll!PyFunction_Vectorcall [<unknown file> @ <unknown line number>]\n00007FFE4A9BAEA100007FFE4A9BAA10 python39.dll!PyCell_Set [<unknown file> @ <unknown line number>]\n00007FFE4A9BB0CD00007FFE4A9BB010 python39.dll!PyMethod_Self [<unknown file> @ <unknown line number>]\n00007FFE4A9B843100007FFE4A9B8370 python39.dll!PyVectorcall_Call [<unknown file> @ <unknown line number>]\n00007FFE4A9B851B00007FFE4A9B84D0 python39.dll!PyObject_Call [<unknown file> @ <unknown line number>]\n00007FFE4AAF806E00007FFE4AAF7B00 python39.dll!PyEval_GetFuncDesc [<unknown file> @ <unknown line number>]\n00007FFE4AAF367C00007FFE4AAF0710 python39.dll!PyEval_EvalFrameDefault [<unknown file> @ <unknown line number>]\n00007FFE4AAF66A500007FFE4AAF0710 python39.dll!PyEval_EvalFrameDefault [<unknown file> @ <unknown line number>]\n00007FFE4A9B88A400007FFE4A9B8720 python39.dll!PyFunction_Vectorcall [<unknown file> @ <unknown line number>]\n00007FFE4A9B814100007FFE4A9B8090 python39.dll!PyObject_FastCallDictTstate [<unknown file> @ <unknown line number>]\n00007FFE4A9B8B4200007FFE4A9B8AA0 python39.dll!PyObject_Call_Prepend [<unknown file> @ <unknown line number>]\n00007FFE4AA2F12D00007FFE4AA2AC40 python39.dll!PyType_Ready [<unknown file> @ <unknown line number>]\n00007FFE4A9B832F00007FFE4A9B8220 python39.dll!PyObject_MakeTpCall [<unknown file> @ <unknown line number>]\n00007FFE4AAF7E8F00007FFE4AAF7B00 python39.dll!PyEval_GetFuncDesc [<unknown file> @ <unknown line number>]\n00007FFE4AAF3C7300007FFE4AAF0710 python39.dll!PyEval_EvalFrameDefault [<unknown file> @ <unknown line number>]\n00007FFE4AAF66A500007FFE4AAF0710 python39.dll!PyEval_EvalFrameDefault [<unknown file> @ <unknown line number>]\n00007FFE4A9B88A400007FFE4A9B8720 python39.dll!PyFunction_Vectorcall [<unknown file> @ <unknown line number>]\n00007FFE4A9BAEA100007FFE4A9BAA10 python39.dll!PyCell_Set [<unknown file> @ <unknown line number>]\n00007FFE4A9BB16A00007FFE4A9BB010 python39.dll!PyMethod_Self [<unknown file> @ <unknown line number>]\n00007FFE4A9B851B00007FFE4A9B84D0 python39.dll!PyObject_Call [<unknown file> @ <unknown line number>]\n00007FFE4AAF806E00007FFE4AAF7B00 python39.dll!PyEval_GetFuncDesc [<unknown file> @ <unknown line number>]\n00007FFE4AAF367C00007FFE4AAF0710 python39.dll!PyEval_EvalFrameDefault [<unknown file> @ <unknown line number>]\n00007FFE4AAF66A500007FFE4AAF0710 python39.dll!PyEval_EvalFrameDefault [<unknown file> @ <unknown line number>]\n00007FFE4A9B88A400007FFE4A9B8720 python39.dll!PyFunction_Vectorcall [<unknown file> @ <unknown line number>]\n00007FFE4A9BAEA100007FFE4A9BAA10 python39.dll!PyCell_Set [<unknown file> @ <unknown line number>]\n00007FFE4A9BB16A00007FFE4A9BB010 python39.dll!PyMethod_Self [<unknown file> @ <unknown line number>]\n00007FFE4A9B851B00007FFE4A9B84D0 python39.dll!PyObject_Call [<unknown file> @ <unknown line number>]\n00007FFE4AAF806E00007FFE4AAF7B00 python39.dll!PyEval_GetFuncDesc [<unknown file> @ <unknown line number>]\n00007FFE4AAF367C00007FFE4AAF0710 python39.dll!PyEval_EvalFrameDefault [<unknown file> @ <unknown line number>]\n"
     ]
    }
   ],
   "source": [
    "for i in range(num_layers):\n",
    "    print(\"SELF ATTN\")\n",
    "    # self attention within the features (B, Y*X, C)\n",
    "    bev_queries = self_attn_layers[i](bev_queries, Y, X, bev_queries_pos)\n",
    "\n",
    "    print(\"NORM1\")\n",
    "    # normalize (B, Y*X, C)\n",
    "    bev_queries = norm1_layers[i](bev_queries)\n",
    "\n",
    "    # cross attention into the images\n",
    "    bev_queries = cross_attn_layers[i](bev_queries, bev_keys, bev_keys,\n",
    "                                            query_pos=bev_queries_pos,\n",
    "                                            reference_points_cam=reference_points_cam,\n",
    "                                            spatial_shapes=spatial_shapes,\n",
    "                                            bev_mask=bev_mask)\n",
    "\n",
    "    # normalize (B, N, C)\n",
    "    bev_queries = norm2_layers[i](bev_queries)\n",
    "\n",
    "    # feedforward layer (B, N, C)\n",
    "    bev_queries = bev_queries + ffn_layers[i](bev_queries)\n",
    "\n",
    "    # normalize (B, N, C)\n",
    "    bev_queries = norm3_layers[i](bev_queries)"
   ]
  },
  {
   "cell_type": "code",
   "execution_count": null,
   "metadata": {},
   "outputs": [
    {
     "data": {
      "text/plain": [
       "[2, 7, 3, 720, 1280]"
      ]
     },
     "metadata": {},
     "output_type": "display_data"
    }
   ],
   "source": [
    "shapelist"
   ]
  }
 ],
 "metadata": {
  "kernelspec": {
   "display_name": "tracktacular_rep",
   "language": "python",
   "name": "python3"
  },
  "language_info": {
   "codemirror_mode": {
    "name": "ipython",
    "version": 3
   },
   "file_extension": ".py",
   "mimetype": "text/x-python",
   "name": "python",
   "nbconvert_exporter": "python",
   "pygments_lexer": "ipython3",
   "version": "3.9.21"
  }
 },
 "nbformat": 4,
 "nbformat_minor": 2
}
